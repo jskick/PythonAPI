{
 "cells": [
  {
   "cell_type": "code",
   "execution_count": 1,
   "metadata": {},
   "outputs": [],
   "source": [
    "# Dependencies and Setup\n",
    "import matplotlib.pyplot as plt\n",
    "import pandas as pd\n",
    "import numpy as np\n",
    "import requests\n",
    "import gmaps\n",
    "import os\n",
    "\n",
    "# Import API key\n",
    "from api_keys import g_key"
   ]
  },
  {
   "cell_type": "markdown",
   "metadata": {},
   "source": [
    "### Store Part I results into DataFrame\n",
    "* Load the csv exported in Part I to a DataFrame"
   ]
  },
  {
   "cell_type": "code",
   "execution_count": 2,
   "metadata": {},
   "outputs": [
    {
     "data": {
      "text/html": [
       "<div>\n",
       "<style scoped>\n",
       "    .dataframe tbody tr th:only-of-type {\n",
       "        vertical-align: middle;\n",
       "    }\n",
       "\n",
       "    .dataframe tbody tr th {\n",
       "        vertical-align: top;\n",
       "    }\n",
       "\n",
       "    .dataframe thead th {\n",
       "        text-align: right;\n",
       "    }\n",
       "</style>\n",
       "<table border=\"1\" class=\"dataframe\">\n",
       "  <thead>\n",
       "    <tr style=\"text-align: right;\">\n",
       "      <th></th>\n",
       "      <th>Unnamed: 0</th>\n",
       "      <th>City</th>\n",
       "      <th>Cloudiness</th>\n",
       "      <th>Country</th>\n",
       "      <th>Date</th>\n",
       "      <th>Humidity</th>\n",
       "      <th>Lat</th>\n",
       "      <th>Long</th>\n",
       "      <th>Max Temp</th>\n",
       "      <th>Wind Speed</th>\n",
       "    </tr>\n",
       "  </thead>\n",
       "  <tbody>\n",
       "    <tr>\n",
       "      <th>0</th>\n",
       "      <td>0</td>\n",
       "      <td>saldanha</td>\n",
       "      <td>0</td>\n",
       "      <td>PT</td>\n",
       "      <td>1570626065</td>\n",
       "      <td>39</td>\n",
       "      <td>41.42</td>\n",
       "      <td>-6.55</td>\n",
       "      <td>67.73</td>\n",
       "      <td>2.57</td>\n",
       "    </tr>\n",
       "    <tr>\n",
       "      <th>1</th>\n",
       "      <td>1</td>\n",
       "      <td>mys shmidta</td>\n",
       "      <td>100</td>\n",
       "      <td>RU</td>\n",
       "      <td>1570626065</td>\n",
       "      <td>80</td>\n",
       "      <td>62.06</td>\n",
       "      <td>48.62</td>\n",
       "      <td>35.15</td>\n",
       "      <td>7.90</td>\n",
       "    </tr>\n",
       "    <tr>\n",
       "      <th>2</th>\n",
       "      <td>2</td>\n",
       "      <td>katsuura</td>\n",
       "      <td>20</td>\n",
       "      <td>JP</td>\n",
       "      <td>1570626065</td>\n",
       "      <td>63</td>\n",
       "      <td>33.93</td>\n",
       "      <td>134.50</td>\n",
       "      <td>62.60</td>\n",
       "      <td>5.82</td>\n",
       "    </tr>\n",
       "    <tr>\n",
       "      <th>3</th>\n",
       "      <td>3</td>\n",
       "      <td>alugan</td>\n",
       "      <td>100</td>\n",
       "      <td>PH</td>\n",
       "      <td>1570626066</td>\n",
       "      <td>90</td>\n",
       "      <td>12.22</td>\n",
       "      <td>125.48</td>\n",
       "      <td>77.63</td>\n",
       "      <td>3.00</td>\n",
       "    </tr>\n",
       "    <tr>\n",
       "      <th>4</th>\n",
       "      <td>4</td>\n",
       "      <td>ushuaia</td>\n",
       "      <td>40</td>\n",
       "      <td>AR</td>\n",
       "      <td>1570626066</td>\n",
       "      <td>87</td>\n",
       "      <td>-54.81</td>\n",
       "      <td>-68.31</td>\n",
       "      <td>37.40</td>\n",
       "      <td>28.86</td>\n",
       "    </tr>\n",
       "  </tbody>\n",
       "</table>\n",
       "</div>"
      ],
      "text/plain": [
       "   Unnamed: 0         City  Cloudiness Country        Date  Humidity    Lat  \\\n",
       "0           0     saldanha           0      PT  1570626065        39  41.42   \n",
       "1           1  mys shmidta         100      RU  1570626065        80  62.06   \n",
       "2           2     katsuura          20      JP  1570626065        63  33.93   \n",
       "3           3       alugan         100      PH  1570626066        90  12.22   \n",
       "4           4      ushuaia          40      AR  1570626066        87 -54.81   \n",
       "\n",
       "     Long  Max Temp  Wind Speed  \n",
       "0   -6.55     67.73        2.57  \n",
       "1   48.62     35.15        7.90  \n",
       "2  134.50     62.60        5.82  \n",
       "3  125.48     77.63        3.00  \n",
       "4  -68.31     37.40       28.86  "
      ]
     },
     "execution_count": 2,
     "metadata": {},
     "output_type": "execute_result"
    }
   ],
   "source": [
    "# Store csv created in part one into a DataFrame\n",
    "file1 = pd.read_csv(\"output_data/cities.csv\")\n",
    "file1.head()"
   ]
  },
  {
   "cell_type": "markdown",
   "metadata": {},
   "source": [
    "### Humidity Heatmap\n",
    "* Configure gmaps.\n",
    "* Use the Lat and Lng as locations and Humidity as the weight.\n",
    "* Add Heatmap layer to map."
   ]
  },
  {
   "cell_type": "code",
   "execution_count": 3,
   "metadata": {},
   "outputs": [],
   "source": [
    "# Configure gmaps\n",
    "gmaps.configure(api_key=g_key)\n"
   ]
  },
  {
   "cell_type": "code",
   "execution_count": 4,
   "metadata": {},
   "outputs": [
    {
     "data": {
      "application/vnd.jupyter.widget-view+json": {
       "model_id": "555b7e762aec45408ec58bbd1822a329",
       "version_major": 2,
       "version_minor": 0
      },
      "text/plain": [
       "Figure(layout=FigureLayout(height='420px'))"
      ]
     },
     "metadata": {},
     "output_type": "display_data"
    }
   ],
   "source": [
    "# Heatmap of humidity\n",
    "fig = gmaps.figure()\n",
    "locations = file1[[\"Lat\", \"Long\"]].astype(float)\n",
    "Humidity =file1[\"Humidity\"].astype(float)\n",
    "heat_layer = gmaps.heatmap_layer(locations, weights=Humidity, \n",
    "                                 dissipating=False, max_intensity=100,\n",
    "                                 point_radius = 1)\n",
    "fig.add_layer(heat_layer)\n",
    "\n",
    "fig"
   ]
  },
  {
   "cell_type": "markdown",
   "metadata": {},
   "source": [
    "### Create new DataFrame fitting weather criteria\n",
    "* Narrow down the cities to fit weather conditions.\n",
    "* Drop any rows will null values."
   ]
  },
  {
   "cell_type": "code",
   "execution_count": 13,
   "metadata": {},
   "outputs": [
    {
     "name": "stderr",
     "output_type": "stream",
     "text": [
      "D:\\Anaconda\\lib\\site-packages\\ipykernel_launcher.py:4: UserWarning: Boolean Series key will be reindexed to match DataFrame index.\n",
      "  after removing the cwd from sys.path.\n",
      "D:\\Anaconda\\lib\\site-packages\\ipykernel_launcher.py:5: UserWarning: Boolean Series key will be reindexed to match DataFrame index.\n",
      "  \"\"\"\n",
      "D:\\Anaconda\\lib\\site-packages\\ipykernel_launcher.py:6: UserWarning: Boolean Series key will be reindexed to match DataFrame index.\n",
      "  \n"
     ]
    },
    {
     "data": {
      "text/html": [
       "<div>\n",
       "<style scoped>\n",
       "    .dataframe tbody tr th:only-of-type {\n",
       "        vertical-align: middle;\n",
       "    }\n",
       "\n",
       "    .dataframe tbody tr th {\n",
       "        vertical-align: top;\n",
       "    }\n",
       "\n",
       "    .dataframe thead th {\n",
       "        text-align: right;\n",
       "    }\n",
       "</style>\n",
       "<table border=\"1\" class=\"dataframe\">\n",
       "  <thead>\n",
       "    <tr style=\"text-align: right;\">\n",
       "      <th></th>\n",
       "      <th>Unnamed: 0</th>\n",
       "      <th>City</th>\n",
       "      <th>Cloudiness</th>\n",
       "      <th>Country</th>\n",
       "      <th>Date</th>\n",
       "      <th>Humidity</th>\n",
       "      <th>Lat</th>\n",
       "      <th>Long</th>\n",
       "      <th>Max Temp</th>\n",
       "      <th>Wind Speed</th>\n",
       "    </tr>\n",
       "  </thead>\n",
       "  <tbody>\n",
       "    <tr>\n",
       "      <th>179</th>\n",
       "      <td>179</td>\n",
       "      <td>miyazu</td>\n",
       "      <td>0</td>\n",
       "      <td>JP</td>\n",
       "      <td>1570626116</td>\n",
       "      <td>74</td>\n",
       "      <td>35.58</td>\n",
       "      <td>135.20</td>\n",
       "      <td>51.17</td>\n",
       "      <td>1.05</td>\n",
       "    </tr>\n",
       "    <tr>\n",
       "      <th>243</th>\n",
       "      <td>243</td>\n",
       "      <td>vostok</td>\n",
       "      <td>0</td>\n",
       "      <td>RU</td>\n",
       "      <td>1570626132</td>\n",
       "      <td>77</td>\n",
       "      <td>46.45</td>\n",
       "      <td>135.83</td>\n",
       "      <td>41.63</td>\n",
       "      <td>6.24</td>\n",
       "    </tr>\n",
       "    <tr>\n",
       "      <th>246</th>\n",
       "      <td>246</td>\n",
       "      <td>talnakh</td>\n",
       "      <td>0</td>\n",
       "      <td>RU</td>\n",
       "      <td>1570626133</td>\n",
       "      <td>73</td>\n",
       "      <td>69.49</td>\n",
       "      <td>88.39</td>\n",
       "      <td>19.40</td>\n",
       "      <td>6.71</td>\n",
       "    </tr>\n",
       "  </tbody>\n",
       "</table>\n",
       "</div>"
      ],
      "text/plain": [
       "     Unnamed: 0     City  Cloudiness Country        Date  Humidity    Lat  \\\n",
       "179         179   miyazu           0      JP  1570626116        74  35.58   \n",
       "243         243   vostok           0      RU  1570626132        77  46.45   \n",
       "246         246  talnakh           0      RU  1570626133        73  69.49   \n",
       "\n",
       "       Long  Max Temp  Wind Speed  \n",
       "179  135.20     51.17        1.05  \n",
       "243  135.83     41.63        6.24  \n",
       "246   88.39     19.40        6.71  "
      ]
     },
     "execution_count": 13,
     "metadata": {},
     "output_type": "execute_result"
    }
   ],
   "source": [
    "# Narrow down cities that fit criteria and drop any results with null values\n",
    "weatherdata = file1.dropna()\n",
    "idealcity = weatherdata[weatherdata['Humidity']>70]\n",
    "idealcity = idealcity[weatherdata['Humidity']<80]\n",
    "idealcity = idealcity[weatherdata['Wind Speed']< 10]\n",
    "idealcity = idealcity[weatherdata['Cloudiness'] == 0]\n",
    "idealcity.head()"
   ]
  },
  {
   "cell_type": "markdown",
   "metadata": {},
   "source": [
    "### Hotel Map\n",
    "* Store into variable named `hotel_df`.\n",
    "* Add a \"Hotel Name\" column to the DataFrame.\n",
    "* Set parameters to search for hotels with 5000 meters.\n",
    "* Hit the Google Places API for each city's coordinates.\n",
    "* Store the first Hotel result into the DataFrame.\n",
    "* Plot markers on top of the heatmap."
   ]
  },
  {
   "cell_type": "code",
   "execution_count": 8,
   "metadata": {},
   "outputs": [
    {
     "data": {
      "text/html": [
       "<div>\n",
       "<style scoped>\n",
       "    .dataframe tbody tr th:only-of-type {\n",
       "        vertical-align: middle;\n",
       "    }\n",
       "\n",
       "    .dataframe tbody tr th {\n",
       "        vertical-align: top;\n",
       "    }\n",
       "\n",
       "    .dataframe thead th {\n",
       "        text-align: right;\n",
       "    }\n",
       "</style>\n",
       "<table border=\"1\" class=\"dataframe\">\n",
       "  <thead>\n",
       "    <tr style=\"text-align: right;\">\n",
       "      <th></th>\n",
       "      <th>City</th>\n",
       "      <th>Country</th>\n",
       "      <th>Lat</th>\n",
       "      <th>Lng</th>\n",
       "      <th>Hotel Name</th>\n",
       "    </tr>\n",
       "  </thead>\n",
       "  <tbody>\n",
       "    <tr>\n",
       "      <td>1</td>\n",
       "      <td>rikitea</td>\n",
       "      <td>PF</td>\n",
       "      <td>-23.12</td>\n",
       "      <td>-134.97</td>\n",
       "      <td></td>\n",
       "    </tr>\n",
       "    <tr>\n",
       "      <td>31</td>\n",
       "      <td>barrow</td>\n",
       "      <td>AR</td>\n",
       "      <td>-38.31</td>\n",
       "      <td>-60.23</td>\n",
       "      <td></td>\n",
       "    </tr>\n",
       "    <tr>\n",
       "      <td>88</td>\n",
       "      <td>niteroi</td>\n",
       "      <td>BR</td>\n",
       "      <td>-29.95</td>\n",
       "      <td>-51.16</td>\n",
       "      <td></td>\n",
       "    </tr>\n",
       "    <tr>\n",
       "      <td>160</td>\n",
       "      <td>shache</td>\n",
       "      <td>CN</td>\n",
       "      <td>38.42</td>\n",
       "      <td>77.24</td>\n",
       "      <td></td>\n",
       "    </tr>\n",
       "    <tr>\n",
       "      <td>303</td>\n",
       "      <td>namibe</td>\n",
       "      <td>AO</td>\n",
       "      <td>-15.19</td>\n",
       "      <td>12.15</td>\n",
       "      <td></td>\n",
       "    </tr>\n",
       "  </tbody>\n",
       "</table>\n",
       "</div>"
      ],
      "text/plain": [
       "        City Country    Lat     Lng Hotel Name\n",
       "1    rikitea      PF -23.12 -134.97           \n",
       "31    barrow      AR -38.31  -60.23           \n",
       "88   niteroi      BR -29.95  -51.16           \n",
       "160   shache      CN  38.42   77.24           \n",
       "303   namibe      AO -15.19   12.15           "
      ]
     },
     "execution_count": 8,
     "metadata": {},
     "output_type": "execute_result"
    }
   ],
   "source": [
    "# Create DataFrame called hotel_df to store hotel names along with city, country and coordinates\n"
   ]
  },
  {
   "cell_type": "code",
   "execution_count": 9,
   "metadata": {
    "scrolled": true
   },
   "outputs": [
    {
     "name": "stdout",
     "output_type": "stream",
     "text": [
      "Missing field/result... skipping.\n",
      "Missing field/result... skipping.\n"
     ]
    },
    {
     "data": {
      "text/html": [
       "<div>\n",
       "<style scoped>\n",
       "    .dataframe tbody tr th:only-of-type {\n",
       "        vertical-align: middle;\n",
       "    }\n",
       "\n",
       "    .dataframe tbody tr th {\n",
       "        vertical-align: top;\n",
       "    }\n",
       "\n",
       "    .dataframe thead th {\n",
       "        text-align: right;\n",
       "    }\n",
       "</style>\n",
       "<table border=\"1\" class=\"dataframe\">\n",
       "  <thead>\n",
       "    <tr style=\"text-align: right;\">\n",
       "      <th></th>\n",
       "      <th>City</th>\n",
       "      <th>Country</th>\n",
       "      <th>Lat</th>\n",
       "      <th>Lng</th>\n",
       "      <th>Hotel Name</th>\n",
       "    </tr>\n",
       "  </thead>\n",
       "  <tbody>\n",
       "    <tr>\n",
       "      <td>1</td>\n",
       "      <td>rikitea</td>\n",
       "      <td>PF</td>\n",
       "      <td>-23.12</td>\n",
       "      <td>-134.97</td>\n",
       "      <td>Pension Maro'i</td>\n",
       "    </tr>\n",
       "    <tr>\n",
       "      <td>31</td>\n",
       "      <td>barrow</td>\n",
       "      <td>AR</td>\n",
       "      <td>-38.31</td>\n",
       "      <td>-60.23</td>\n",
       "      <td></td>\n",
       "    </tr>\n",
       "    <tr>\n",
       "      <td>88</td>\n",
       "      <td>niteroi</td>\n",
       "      <td>BR</td>\n",
       "      <td>-29.95</td>\n",
       "      <td>-51.16</td>\n",
       "      <td>Hotel Express Canoas</td>\n",
       "    </tr>\n",
       "    <tr>\n",
       "      <td>160</td>\n",
       "      <td>shache</td>\n",
       "      <td>CN</td>\n",
       "      <td>38.42</td>\n",
       "      <td>77.24</td>\n",
       "      <td>Delong Hotel</td>\n",
       "    </tr>\n",
       "    <tr>\n",
       "      <td>303</td>\n",
       "      <td>namibe</td>\n",
       "      <td>AO</td>\n",
       "      <td>-15.19</td>\n",
       "      <td>12.15</td>\n",
       "      <td>Chik-Chik Namibe</td>\n",
       "    </tr>\n",
       "  </tbody>\n",
       "</table>\n",
       "</div>"
      ],
      "text/plain": [
       "        City Country    Lat     Lng            Hotel Name\n",
       "1    rikitea      PF -23.12 -134.97        Pension Maro'i\n",
       "31    barrow      AR -38.31  -60.23                      \n",
       "88   niteroi      BR -29.95  -51.16  Hotel Express Canoas\n",
       "160   shache      CN  38.42   77.24          Delong Hotel\n",
       "303   namibe      AO -15.19   12.15      Chik-Chik Namibe"
      ]
     },
     "execution_count": 9,
     "metadata": {},
     "output_type": "execute_result"
    }
   ],
   "source": [
    "# Set parameters to search for a hotel\n",
    "\n",
    "\n",
    "# Iterate through \n"
   ]
  },
  {
   "cell_type": "code",
   "execution_count": 11,
   "metadata": {},
   "outputs": [],
   "source": [
    "# NOTE: Do not change any of the code in this cell\n",
    "\n",
    "# Using the template add the hotel marks to the heatmap\n",
    "info_box_template = \"\"\"\n",
    "<dl>\n",
    "<dt>Name</dt><dd>{Hotel Name}</dd>\n",
    "<dt>City</dt><dd>{City}</dd>\n",
    "<dt>Country</dt><dd>{Country}</dd>\n",
    "</dl>\n",
    "\"\"\"\n",
    "# Store the DataFrame Row\n",
    "\n",
    "hotel_info = [info_box_template.format(**row) for index, row in hotel_df.iterrows()]\n",
    "locations = hotel_df[[\"Lat\", \"Lng\"]]"
   ]
  },
  {
   "cell_type": "code",
   "execution_count": 12,
   "metadata": {},
   "outputs": [
    {
     "data": {
      "application/vnd.jupyter.widget-view+json": {
       "model_id": "1133cde35c2b4473b0eb0c5934257468",
       "version_major": 2,
       "version_minor": 0
      },
      "text/plain": [
       "Figure(layout=FigureLayout(height='420px'))"
      ]
     },
     "metadata": {},
     "output_type": "display_data"
    }
   ],
   "source": [
    "# Add marker layer ontop of heat map\n",
    "\n",
    "\n",
    "# Display figure\n"
   ]
  },
  {
   "cell_type": "code",
   "execution_count": null,
   "metadata": {},
   "outputs": [],
   "source": []
  }
 ],
 "metadata": {
  "kernelspec": {
   "display_name": "Python 3",
   "language": "python",
   "name": "python3"
  },
  "language_info": {
   "codemirror_mode": {
    "name": "ipython",
    "version": 3
   },
   "file_extension": ".py",
   "mimetype": "text/x-python",
   "name": "python",
   "nbconvert_exporter": "python",
   "pygments_lexer": "ipython3",
   "version": "3.7.3"
  },
  "latex_envs": {
   "LaTeX_envs_menu_present": true,
   "autoclose": false,
   "autocomplete": true,
   "bibliofile": "biblio.bib",
   "cite_by": "apalike",
   "current_citInitial": 1,
   "eqLabelWithNumbers": true,
   "eqNumInitial": 1,
   "hotkeys": {
    "equation": "Ctrl-E",
    "itemize": "Ctrl-I"
   },
   "labels_anchors": false,
   "latex_user_defs": false,
   "report_style_numbering": false,
   "user_envs_cfg": false
  }
 },
 "nbformat": 4,
 "nbformat_minor": 2
}
